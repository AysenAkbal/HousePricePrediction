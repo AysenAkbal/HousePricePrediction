{
  "nbformat": 4,
  "nbformat_minor": 0,
  "metadata": {
    "colab": {
      "name": "DataScience_Project.ipynb",
      "provenance": [],
      "collapsed_sections": []
    },
    "kernelspec": {
      "name": "python3",
      "display_name": "Python 3"
    }
  },
  "cells": [
    {
      "cell_type": "code",
      "metadata": {
        "id": "17BxiZuM9cJg",
        "colab_type": "code",
        "colab": {}
      },
      "source": [
        "from google.colab import drive\n",
        "drive.mount('/content/drive')"
      ],
      "execution_count": 0,
      "outputs": []
    },
    {
      "cell_type": "code",
      "metadata": {
        "id": "ylh0mbHqwcoj",
        "colab_type": "code",
        "colab": {}
      },
      "source": [
        "cd /content/drive/My\\ Drive/Data\\ Science/Project"
      ],
      "execution_count": 0,
      "outputs": []
    },
    {
      "cell_type": "code",
      "metadata": {
        "id": "27_tR1P09xc1",
        "colab_type": "code",
        "colab": {}
      },
      "source": [
        "import numpy as np \n",
        "import pandas as pd\n",
        "#Read csv file to create a pandas dataFrame\n",
        "df = pd.read_csv(\"house_dataset.csv\");\n",
        "#Checking Data types of features\n",
        "df.info()"
      ],
      "execution_count": 0,
      "outputs": []
    },
    {
      "cell_type": "code",
      "metadata": {
        "id": "DvrC5d-JmCsC",
        "colab_type": "code",
        "colab": {}
      },
      "source": [
        "#Replacing all 'Belirtilmemiş' values with Numpy NaN\n",
        "df = df.replace(\"Belirtilmemiş\", np.NaN)"
      ],
      "execution_count": 0,
      "outputs": []
    },
    {
      "cell_type": "code",
      "metadata": {
        "id": "ar1rxQSyvHGa",
        "colab_type": "code",
        "colab": {}
      },
      "source": [
        "#Dropping id column\n",
        "df.drop(\"id\", axis= 1, inplace = True)"
      ],
      "execution_count": 0,
      "outputs": []
    },
    {
      "cell_type": "code",
      "metadata": {
        "id": "dXxIfRKn2DLX",
        "colab_type": "code",
        "colab": {}
      },
      "source": [
        "#Printing unique values for isinma column\n",
        "df[\"isinma\"].unique()"
      ],
      "execution_count": 0,
      "outputs": []
    },
    {
      "cell_type": "code",
      "metadata": {
        "id": "hfKaqoDOxtLv",
        "colab_type": "code",
        "colab": {}
      },
      "source": [
        "#Encoding isinma column\n",
        "isinma = {\"Kombi\": 0, \"Merkezi (Pay Ölçer)\": 1, \"Merkezi\": 2, \"Soba\": 3,\n",
        "          \"Klima\": 4, \"Kat Kaloriferi\": 5, \"Isıtma Yok\": 6, \"Jeotermal Isıtma\": 7}\n",
        "df[\"isinma\"] = df[\"isinma\"].replace(isinma)\n",
        "df[\"isinma\"].value_counts()"
      ],
      "execution_count": 0,
      "outputs": []
    },
    {
      "cell_type": "code",
      "metadata": {
        "id": "3r3lrEmN0Oah",
        "colab_type": "code",
        "colab": {}
      },
      "source": [
        "#Printing unique values for esyali column\n",
        "df[\"esyali\"].unique()"
      ],
      "execution_count": 0,
      "outputs": []
    },
    {
      "cell_type": "code",
      "metadata": {
        "id": "PZWOmBwQsXHp",
        "colab_type": "code",
        "colab": {}
      },
      "source": [
        "#Encoding esyali column\n",
        "esyali = {\"Eşyalı Değil\": 0, \"Eşyalı\": 1}\n",
        "df[\"esyali\"] = df[\"esyali\"].replace(esyali)\n",
        "df[\"esyali\"].value_counts()"
      ],
      "execution_count": 0,
      "outputs": []
    },
    {
      "cell_type": "code",
      "metadata": {
        "id": "NQoIPXB6s7Qa",
        "colab_type": "code",
        "colab": {}
      },
      "source": [
        "#Printing unique values for kredi column\n",
        "df[\"kredi\"].unique()"
      ],
      "execution_count": 0,
      "outputs": []
    },
    {
      "cell_type": "code",
      "metadata": {
        "id": "KH-bEKDKtyw-",
        "colab_type": "code",
        "colab": {}
      },
      "source": [
        "#Encoding kredi column\n",
        "kredi = {\"Uygun\":1 , \"Uygun değil\": 0 , \"Bilinmiyor\":np.NaN}\n",
        "df[\"kredi\"] = df[\"kredi\"].replace(kredi)\n",
        "df[\"kredi\"].value_counts()"
      ],
      "execution_count": 0,
      "outputs": []
    },
    {
      "cell_type": "code",
      "metadata": {
        "id": "pB9lTwfU0yS3",
        "colab_type": "code",
        "colab": {}
      },
      "source": [
        "#Printing unique values for tapu column\n",
        "df[\"tapu\"].unique()"
      ],
      "execution_count": 0,
      "outputs": []
    },
    {
      "cell_type": "code",
      "metadata": {
        "id": "zF7ggrsR00WV",
        "colab_type": "code",
        "colab": {}
      },
      "source": [
        "#Encoding tapu column\n",
        "tapu = {\"Arsa\": 1 , \"Kat İrtifakı\": 2 , \"Kat Mülkiyeti\": 3}\n",
        "df[\"tapu\"] = df[\"tapu\"].replace(tapu)\n",
        "df[\"tapu\"].value_counts()"
      ],
      "execution_count": 0,
      "outputs": []
    },
    {
      "cell_type": "code",
      "metadata": {
        "id": "MkQP37wu1GtZ",
        "colab_type": "code",
        "colab": {}
      },
      "source": [
        "#Creating a new dataframe from odasalon column with two seperate columns which are oda and salon \n",
        "df_odaSalon= pd.DataFrame(df.odasalon.str.split('+',1).tolist(),\n",
        "                                 columns = ['oda','salon'])\n",
        "#Storing these columns as Numpy int64\n",
        "df_odaSalon['oda'] = df_odaSalon['oda'].astype(np.int64)\n",
        "df_odaSalon['salon'] = df_odaSalon['salon'].astype(np.int64)\n",
        "df_odaSalon.info()"
      ],
      "execution_count": 0,
      "outputs": []
    },
    {
      "cell_type": "code",
      "metadata": {
        "id": "B0cCUpAl2SjW",
        "colab_type": "code",
        "colab": {}
      },
      "source": [
        "#Dropping odasalon column from df\n",
        "df.drop(\"odasalon\", axis= 1, inplace = True)\n",
        "#Joining df_odaSalon to df\n",
        "df = df.join(df_odaSalon)"
      ],
      "execution_count": 0,
      "outputs": []
    },
    {
      "cell_type": "code",
      "metadata": {
        "id": "so5r-HkZ45PI",
        "colab_type": "code",
        "colab": {}
      },
      "source": [
        "#Since yasi column has values like '12 yaşında'. \n",
        "#We need to split yasi column according to space character to get the first element as Numpy int64\n",
        "df['yasi'] = df['yasi'].str.split(' ').str[0]\n",
        "df[\"yasi\"] = df[\"yasi\"].replace(\"Sıfır\", 0)\n",
        "df['yasi'] = df['yasi'].astype(np.int64)\n",
        "df[\"yasi\"].value_counts()"
      ],
      "execution_count": 0,
      "outputs": []
    },
    {
      "cell_type": "code",
      "metadata": {
        "id": "nmqV4rb99qFu",
        "colab_type": "code",
        "colab": {}
      },
      "source": [
        "#Since fiyat column has values like '450.000 TL'. \n",
        "#We need to split fiyat column according to space character to get the first element then format to remove unneccesary '.' and ',' characters\n",
        "#Then store these values as Numpy int64\n",
        "df['fiyat'] = df['fiyat'].str.split(' ').str[0]\n",
        "df['fiyat'] = (df['fiyat'].str.replace('.', ''))\n",
        "df['fiyat'] = (df['fiyat'].str.replace(',', ''))\n",
        "df['fiyat'] = df['fiyat'].astype(np.int64)\n",
        "df[\"fiyat\"].value_counts()"
      ],
      "execution_count": 0,
      "outputs": []
    },
    {
      "cell_type": "code",
      "metadata": {
        "id": "RDnHBc9Jxczb",
        "colab_type": "code",
        "colab": {}
      },
      "source": [
        "#Checking if there is any null data\n",
        "df.isnull().sum()"
      ],
      "execution_count": 0,
      "outputs": []
    },
    {
      "cell_type": "code",
      "metadata": {
        "id": "6_FGC86N_yDd",
        "colab_type": "code",
        "colab": {}
      },
      "source": [
        "#Dropping rows which has NaN value in it\n",
        "df = df.dropna()"
      ],
      "execution_count": 0,
      "outputs": []
    },
    {
      "cell_type": "code",
      "metadata": {
        "id": "vznFm_S5GoFa",
        "colab_type": "code",
        "colab": {}
      },
      "source": [
        "#Since net column has values like '85.00'. \n",
        "#We need to split net column according to '.' character to get the first element as Numpy int64\n",
        "df['net'] = df['net'].str.split('.').str[0]\n",
        "df['net'] = df['net'].astype(np.int64)"
      ],
      "execution_count": 0,
      "outputs": []
    },
    {
      "cell_type": "code",
      "metadata": {
        "id": "XEVd4R802GaG",
        "colab_type": "code",
        "colab": {}
      },
      "source": [
        "#To encode ilce values create a new dataframe which is encode_ilce and fill it with mean value of fiyat grouped by ilce\n",
        "encode_ilce = df.groupby('ilce', as_index=False)['fiyat'].mean().sort_values('fiyat')\n",
        "#Then reset indexes to set the cheapest ilce's index to 0. \n",
        "encode_ilce = encode_ilce.reset_index(drop=True)\n",
        "#Reverse dictionary's key and values to use it in encoding\n",
        "rev_dict = {v: k for k, v in encode_ilce['ilce'].to_dict().items()}\n",
        "#Encode ilce values with the dictionary\n",
        "df[\"ilce\"] = df[\"ilce\"].replace(rev_dict)\n",
        "df[\"ilce\"].value_counts()\n",
        "df['ilce'] = df['ilce'].astype(np.int64)"
      ],
      "execution_count": 0,
      "outputs": []
    },
    {
      "cell_type": "code",
      "metadata": {
        "id": "RgWZzcVWTbxb",
        "colab_type": "code",
        "colab": {}
      },
      "source": [
        "#To encode kati values create a new dataframe which is encode_kat and fill it with mean value of fiyat grouped by kat\n",
        "encode_kat = df.groupby('kati', as_index=False)['fiyat'].mean().sort_values('fiyat')\n",
        "#Then reset indexes to set the cheapest kat's index to 0. \n",
        "encode_kat = encode_kat.reset_index(drop=True)\n",
        "#Reverse dictionary's key and values to use it in encoding\n",
        "rev_dict = {v: k for k, v in encode_kat['kati'].to_dict().items()}\n",
        "#Encode kati values with the dictionary\n",
        "df[\"kati\"] = df[\"kati\"].replace(rev_dict)\n",
        "df[\"kati\"].value_counts()\n",
        "df['kati'] = df['kati'].astype(np.int64)"
      ],
      "execution_count": 0,
      "outputs": []
    },
    {
      "cell_type": "code",
      "metadata": {
        "id": "k4cMKSW-FFYy",
        "colab_type": "code",
        "colab": {}
      },
      "source": [
        "df.info()"
      ],
      "execution_count": 0,
      "outputs": []
    },
    {
      "cell_type": "code",
      "metadata": {
        "id": "myEsKmXKcjzO",
        "colab_type": "code",
        "colab": {}
      },
      "source": [
        "df.to_csv('test.csv', index=False)"
      ],
      "execution_count": 0,
      "outputs": []
    },
    {
      "cell_type": "code",
      "metadata": {
        "id": "CBxYSf5aAoms",
        "colab_type": "code",
        "colab": {}
      },
      "source": [
        "cd/content/drive/My Drive/PythonData/test.csv"
      ],
      "execution_count": 0,
      "outputs": []
    },
    {
      "cell_type": "code",
      "metadata": {
        "id": "UrtlLCaMdscA",
        "colab_type": "code",
        "colab": {}
      },
      "source": [
        "df = pd.read_csv(\"test.csv\");"
      ],
      "execution_count": 0,
      "outputs": []
    },
    {
      "cell_type": "code",
      "metadata": {
        "id": "Op3dnX4nltWQ",
        "colab_type": "code",
        "colab": {}
      },
      "source": [
        "import matplotlib.pyplot as plt\n",
        "import seaborn as sns\n",
        "encode_kat.set_index('kati').plot(figsize = (25, 10), kind = 'bar', color = 'red')\n",
        "plt.savefig('KatFiyat.png')"
      ],
      "execution_count": 0,
      "outputs": []
    },
    {
      "cell_type": "code",
      "metadata": {
        "id": "VFlIhHmB-t58",
        "colab_type": "code",
        "colab": {}
      },
      "source": [
        "plt.subplots(figsize=(20,20))\n",
        "sns.heatmap(df.corr(), annot=True)\n",
        "plt.savefig('heatmap.png')"
      ],
      "execution_count": 0,
      "outputs": []
    },
    {
      "cell_type": "code",
      "metadata": {
        "id": "Cg01bpXFE1mY",
        "colab_type": "code",
        "outputId": "9ae957ab-3732-498d-8c3c-5b1d3067a33d",
        "colab": {
          "base_uri": "https://localhost:8080/",
          "height": 674
        }
      },
      "source": [
        "encode_ilce.set_index('ilce').plot(figsize = (25, 10), kind = 'bar', color = 'red')\n",
        "plt.savefig('İlceFiyat.png')"
      ],
      "execution_count": 0,
      "outputs": [
        {
          "output_type": "display_data",
          "data": {
            "image/png": "[encoded data removed]",
            "text/plain": [
              "<Figure size 1800x720 with 1 Axes>"
            ]
          },
          "metadata": {
            "tags": [],
            "needs_background": "light"
          }
        }
      ]
    },
    {
      "cell_type": "code",
      "metadata": {
        "id": "KoGpK8v-K50m",
        "colab_type": "code",
        "colab": {}
      },
      "source": [
        "df.groupby('esyali').fiyat.mean().plot( kind = 'bar', color = 'red')\n",
        "plt.savefig('esyaFiyat.png')"
      ],
      "execution_count": 0,
      "outputs": []
    },
    {
      "cell_type": "code",
      "metadata": {
        "id": "B5wmtpvAOojp",
        "colab_type": "code",
        "colab": {}
      },
      "source": [
        "df.groupby('ilce').net.mean().plot(figsize = (25, 10), kind = 'bar', color = 'red')\n",
        "plt.savefig('İlceNet.png')"
      ],
      "execution_count": 0,
      "outputs": []
    },
    {
      "cell_type": "code",
      "metadata": {
        "id": "Q6eavSs9P8cQ",
        "colab_type": "code",
        "outputId": "e89ce86c-0400-4c56-d9dd-8cde1a27a060",
        "colab": {
          "base_uri": "https://localhost:8080/",
          "height": 285
        }
      },
      "source": [
        "df.groupby('kredi').fiyat.mean().plot(kind = 'bar', color = 'red')\n",
        "plt.savefig('krediFiyat.png')"
      ],
      "execution_count": 0,
      "outputs": [
        {
          "output_type": "display_data",
          "data": {
            "image/png": "[encoded data removed]",
            "text/plain": [
              "<Figure size 432x288 with 1 Axes>"
            ]
          },
          "metadata": {
            "tags": [],
            "needs_background": "light"
          }
        }
      ]
    },
    {
      "cell_type": "code",
      "metadata": {
        "id": "q4YVEDLqQmCS",
        "colab_type": "code",
        "outputId": "aeca6430-e271-4b22-b825-5fbced1a271a",
        "colab": {
          "base_uri": "https://localhost:8080/",
          "height": 599
        }
      },
      "source": [
        "df.groupby(['kredi']).ilce.value_counts().unstack('kredi').plot.bar(figsize = (25, 10))\n",
        "plt.savefig('krediİlce.png')"
      ],
      "execution_count": 0,
      "outputs": [
        {
          "output_type": "display_data",
          "data": {
            "image/png": "[encoded data removed]",
            "text/plain": [
              "<Figure size 1800x720 with 1 Axes>"
            ]
          },
          "metadata": {
            "tags": [],
            "needs_background": "light"
          }
        }
      ]
    },
    {
      "cell_type": "code",
      "metadata": {
        "id": "LoMR9Zs9VRyt",
        "colab_type": "code",
        "outputId": "bbff7252-71d9-493f-ceff-9b333519ca7a",
        "colab": {
          "base_uri": "https://localhost:8080/",
          "height": 614
        }
      },
      "source": [
        "df.groupby(['isinma']).fiyat.mean().plot.bar(figsize = (25, 10))\n",
        "plt.savefig('isinmaFiyat.png')"
      ],
      "execution_count": 0,
      "outputs": [
        {
          "output_type": "display_data",
          "data": {
            "image/png": "[encoded data removed]",
            "text/plain": [
              "<Figure size 1800x720 with 1 Axes>"
            ]
          },
          "metadata": {
            "tags": [],
            "needs_background": "light"
          }
        }
      ]
    },
    {
      "cell_type": "code",
      "metadata": {
        "id": "jrTjRLmF_UF9",
        "colab_type": "code",
        "colab": {}
      },
      "source": [
        "from sklearn.linear_model import LinearRegression\n",
        "from sklearn.model_selection import train_test_split\n",
        "from sklearn.preprocessing import PolynomialFeatures\n",
        "from sklearn.metrics import r2_score"
      ],
      "execution_count": 0,
      "outputs": []
    },
    {
      "cell_type": "code",
      "metadata": {
        "id": "Fs173ngVeYfz",
        "colab_type": "code",
        "outputId": "34e33413-ee25-45d6-b91b-29fc9fc894ef",
        "colab": {
          "base_uri": "https://localhost:8080/",
          "height": 34
        }
      },
      "source": [
        "df_multiple = df[['ilce','kati','net','brut','oda','banyo', 'tapu', 'salon', 'esyali', 'kredi','fiyat']];\n",
        "\n",
        "x = df_multiple.iloc[:, : -1].values\n",
        "y = df_multiple.iloc[: , 10].values\n",
        "\n",
        "x_train, x_test, y_train, y_test = train_test_split(x, y, test_size = 0.2, random_state = 0)\n",
        "\n",
        "regressor = LinearRegression()\n",
        "regressor.fit(x_train, y_train)\n",
        "\n",
        "y_pred = regressor.predict(x_test)\n",
        "msqe = sum((y_pred - y_test) * (y_pred - y_test)) / y_test.shape[0]\n",
        "rmse = np.sqrt(msqe)\n",
        "print(rmse)"
      ],
      "execution_count": 0,
      "outputs": [
        {
          "output_type": "stream",
          "text": [
            "950933.9982000726\n"
          ],
          "name": "stdout"
        }
      ]
    },
    {
      "cell_type": "code",
      "metadata": {
        "id": "zX3spzk2_lZQ",
        "colab_type": "code",
        "outputId": "39759ed0-0de1-4568-f6ea-f5b333cd523e",
        "colab": {
          "base_uri": "https://localhost:8080/",
          "height": 34
        }
      },
      "source": [
        "print(r2_score(y_test,y_pred))"
      ],
      "execution_count": 0,
      "outputs": [
        {
          "output_type": "stream",
          "text": [
            "0.5518557810474856\n"
          ],
          "name": "stdout"
        }
      ]
    },
    {
      "cell_type": "code",
      "metadata": {
        "id": "TxjtMFVMezs_",
        "colab_type": "code",
        "outputId": "6e883648-69f9-48ae-bd0a-ff9cb02bd845",
        "colab": {
          "base_uri": "https://localhost:8080/",
          "height": 619
        }
      },
      "source": [
        "import statsmodels.api as sm \n",
        "import sklearn.metrics as metric\n",
        "# Using backward elimination to build the optimal model\n",
        "# SL = 0.05 and eliminating those features which have p > SL\n",
        "x_opt = x[:,[0, 1, 2, 3, 4, 5, 6, 7, 8, 9]]\n",
        "x = np.append(arr = np.ones((3481,1)).astype(int), values = x, axis = 1)\n",
        "ols = sm.OLS(y, x_opt).fit()\n",
        "ols.summary()"
      ],
      "execution_count": 0,
      "outputs": [
        {
          "output_type": "execute_result",
          "data": {
            "text/html": [
              "<table class=\"simpletable\">\n",
              "<caption>OLS Regression Results</caption>\n",
              "<tr>\n",
              "  <th>Dep. Variable:</th>            <td>y</td>        <th>  R-squared (uncentered):</th>      <td>   0.625</td> \n",
              "</tr>\n",
              "<tr>\n",
              "  <th>Model:</th>                   <td>OLS</td>       <th>  Adj. R-squared (uncentered):</th> <td>   0.624</td> \n",
              "</tr>\n",
              "<tr>\n",
              "  <th>Method:</th>             <td>Least Squares</td>  <th>  F-statistic:       </th>          <td>   579.6</td> \n",
              "</tr>\n",
              "<tr>\n",
              "  <th>Date:</th>             <td>Wed, 27 May 2020</td> <th>  Prob (F-statistic):</th>           <td>  0.00</td>  \n",
              "</tr>\n",
              "<tr>\n",
              "  <th>Time:</th>                 <td>19:57:26</td>     <th>  Log-Likelihood:    </th>          <td> -53139.</td> \n",
              "</tr>\n",
              "<tr>\n",
              "  <th>No. Observations:</th>      <td>  3481</td>      <th>  AIC:               </th>          <td>1.063e+05</td>\n",
              "</tr>\n",
              "<tr>\n",
              "  <th>Df Residuals:</th>          <td>  3471</td>      <th>  BIC:               </th>          <td>1.064e+05</td>\n",
              "</tr>\n",
              "<tr>\n",
              "  <th>Df Model:</th>              <td>    10</td>      <th>                     </th>              <td> </td>    \n",
              "</tr>\n",
              "<tr>\n",
              "  <th>Covariance Type:</th>      <td>nonrobust</td>    <th>                     </th>              <td> </td>    \n",
              "</tr>\n",
              "</table>\n",
              "<table class=\"simpletable\">\n",
              "<tr>\n",
              "   <td></td>      <th>coef</th>     <th>std err</th>      <th>t</th>      <th>P>|t|</th>  <th>[0.025</th>    <th>0.975]</th>  \n",
              "</tr>\n",
              "<tr>\n",
              "  <th>x1</th>  <td> 3.503e+04</td> <td> 1730.921</td> <td>   20.235</td> <td> 0.000</td> <td> 3.16e+04</td> <td> 3.84e+04</td>\n",
              "</tr>\n",
              "<tr>\n",
              "  <th>x2</th>  <td>-6729.8079</td> <td> 2643.153</td> <td>   -2.546</td> <td> 0.011</td> <td>-1.19e+04</td> <td>-1547.516</td>\n",
              "</tr>\n",
              "<tr>\n",
              "  <th>x3</th>  <td> 1002.4451</td> <td> 1453.615</td> <td>    0.690</td> <td> 0.490</td> <td>-1847.581</td> <td> 3852.472</td>\n",
              "</tr>\n",
              "<tr>\n",
              "  <th>x4</th>  <td> 1.685e+04</td> <td> 1337.769</td> <td>   12.593</td> <td> 0.000</td> <td> 1.42e+04</td> <td> 1.95e+04</td>\n",
              "</tr>\n",
              "<tr>\n",
              "  <th>x5</th>  <td>-4.895e+05</td> <td> 3.11e+04</td> <td>  -15.758</td> <td> 0.000</td> <td> -5.5e+05</td> <td>-4.29e+05</td>\n",
              "</tr>\n",
              "<tr>\n",
              "  <th>x6</th>  <td> 1.925e+05</td> <td> 3.71e+04</td> <td>    5.195</td> <td> 0.000</td> <td>  1.2e+05</td> <td> 2.65e+05</td>\n",
              "</tr>\n",
              "<tr>\n",
              "  <th>x7</th>  <td>-2.061e+05</td> <td> 3.12e+04</td> <td>   -6.606</td> <td> 0.000</td> <td>-2.67e+05</td> <td>-1.45e+05</td>\n",
              "</tr>\n",
              "<tr>\n",
              "  <th>x8</th>  <td>-5.116e+04</td> <td> 1.14e+04</td> <td>   -4.503</td> <td> 0.000</td> <td>-7.34e+04</td> <td>-2.89e+04</td>\n",
              "</tr>\n",
              "<tr>\n",
              "  <th>x9</th>  <td> 1.404e+04</td> <td>  1.1e+05</td> <td>    0.128</td> <td> 0.898</td> <td>-2.02e+05</td> <td>  2.3e+05</td>\n",
              "</tr>\n",
              "<tr>\n",
              "  <th>x10</th> <td>-3.606e+05</td> <td> 7.96e+04</td> <td>   -4.529</td> <td> 0.000</td> <td>-5.17e+05</td> <td>-2.05e+05</td>\n",
              "</tr>\n",
              "</table>\n",
              "<table class=\"simpletable\">\n",
              "<tr>\n",
              "  <th>Omnibus:</th>       <td>3427.573</td> <th>  Durbin-Watson:     </th>  <td>   1.677</td> \n",
              "</tr>\n",
              "<tr>\n",
              "  <th>Prob(Omnibus):</th>  <td> 0.000</td>  <th>  Jarque-Bera (JB):  </th> <td>256362.912</td>\n",
              "</tr>\n",
              "<tr>\n",
              "  <th>Skew:</th>           <td> 4.638</td>  <th>  Prob(JB):          </th>  <td>    0.00</td> \n",
              "</tr>\n",
              "<tr>\n",
              "  <th>Kurtosis:</th>       <td>44.006</td>  <th>  Cond. No.          </th>  <td>1.24e+03</td> \n",
              "</tr>\n",
              "</table><br/><br/>Warnings:<br/>[1] Standard Errors assume that the covariance matrix of the errors is correctly specified.<br/>[2] The condition number is large, 1.24e+03. This might indicate that there are<br/>strong multicollinearity or other numerical problems."
            ],
            "text/plain": [
              "<class 'statsmodels.iolib.summary.Summary'>\n",
              "\"\"\"\n",
              "                                 OLS Regression Results                                \n",
              "=======================================================================================\n",
              "Dep. Variable:                      y   R-squared (uncentered):                   0.625\n",
              "Model:                            OLS   Adj. R-squared (uncentered):              0.624\n",
              "Method:                 Least Squares   F-statistic:                              579.6\n",
              "Date:                Wed, 27 May 2020   Prob (F-statistic):                        0.00\n",
              "Time:                        19:57:26   Log-Likelihood:                         -53139.\n",
              "No. Observations:                3481   AIC:                                  1.063e+05\n",
              "Df Residuals:                    3471   BIC:                                  1.064e+05\n",
              "Df Model:                          10                                                  \n",
              "Covariance Type:            nonrobust                                                  \n",
              "==============================================================================\n",
              "                 coef    std err          t      P>|t|      [0.025      0.975]\n",
              "------------------------------------------------------------------------------\n",
              "x1          3.503e+04   1730.921     20.235      0.000    3.16e+04    3.84e+04\n",
              "x2         -6729.8079   2643.153     -2.546      0.011   -1.19e+04   -1547.516\n",
              "x3          1002.4451   1453.615      0.690      0.490   -1847.581    3852.472\n",
              "x4          1.685e+04   1337.769     12.593      0.000    1.42e+04    1.95e+04\n",
              "x5         -4.895e+05   3.11e+04    -15.758      0.000    -5.5e+05   -4.29e+05\n",
              "x6          1.925e+05   3.71e+04      5.195      0.000     1.2e+05    2.65e+05\n",
              "x7         -2.061e+05   3.12e+04     -6.606      0.000   -2.67e+05   -1.45e+05\n",
              "x8         -5.116e+04   1.14e+04     -4.503      0.000   -7.34e+04   -2.89e+04\n",
              "x9          1.404e+04    1.1e+05      0.128      0.898   -2.02e+05     2.3e+05\n",
              "x10        -3.606e+05   7.96e+04     -4.529      0.000   -5.17e+05   -2.05e+05\n",
              "==============================================================================\n",
              "Omnibus:                     3427.573   Durbin-Watson:                   1.677\n",
              "Prob(Omnibus):                  0.000   Jarque-Bera (JB):           256362.912\n",
              "Skew:                           4.638   Prob(JB):                         0.00\n",
              "Kurtosis:                      44.006   Cond. No.                     1.24e+03\n",
              "==============================================================================\n",
              "\n",
              "Warnings:\n",
              "[1] Standard Errors assume that the covariance matrix of the errors is correctly specified.\n",
              "[2] The condition number is large, 1.24e+03. This might indicate that there are\n",
              "strong multicollinearity or other numerical problems.\n",
              "\"\"\""
            ]
          },
          "metadata": {
            "tags": []
          },
          "execution_count": 135
        }
      ]
    },
    {
      "cell_type": "code",
      "metadata": {
        "id": "pj9Iq1zZfDZJ",
        "colab_type": "code",
        "outputId": "85b2ccaf-71fd-42cf-c010-a59259a55f04",
        "colab": {
          "base_uri": "https://localhost:8080/",
          "height": 1000
        }
      },
      "source": [
        "sl = 0.05\n",
        "numVars = len(x_opt[0])\n",
        "for i in range(0, numVars):\n",
        "    regressor_ols = sm.OLS(y, x_opt).fit()\n",
        "    print(\"i:\", i)\n",
        "    print(regressor_ols.summary())\n",
        "    maxVar = max(regressor_ols.pvalues).astype(float)\n",
        "    if maxVar > sl:\n",
        "        for j in range(0, numVars - i):\n",
        "            if (regressor_ols.pvalues[j].astype(float) == maxVar):\n",
        "                x_opt = np.delete(x_opt, j, 1)"
      ],
      "execution_count": 0,
      "outputs": [
        {
          "output_type": "stream",
          "text": [
            "i: 0\n",
            "                                 OLS Regression Results                                \n",
            "=======================================================================================\n",
            "Dep. Variable:                      y   R-squared (uncentered):                   0.625\n",
            "Model:                            OLS   Adj. R-squared (uncentered):              0.624\n",
            "Method:                 Least Squares   F-statistic:                              579.6\n",
            "Date:                Wed, 27 May 2020   Prob (F-statistic):                        0.00\n",
            "Time:                        19:57:31   Log-Likelihood:                         -53139.\n",
            "No. Observations:                3481   AIC:                                  1.063e+05\n",
            "Df Residuals:                    3471   BIC:                                  1.064e+05\n",
            "Df Model:                          10                                                  \n",
            "Covariance Type:            nonrobust                                                  \n",
            "==============================================================================\n",
            "                 coef    std err          t      P>|t|      [0.025      0.975]\n",
            "------------------------------------------------------------------------------\n",
            "x1          3.503e+04   1730.921     20.235      0.000    3.16e+04    3.84e+04\n",
            "x2         -6729.8079   2643.153     -2.546      0.011   -1.19e+04   -1547.516\n",
            "x3          1002.4451   1453.615      0.690      0.490   -1847.581    3852.472\n",
            "x4          1.685e+04   1337.769     12.593      0.000    1.42e+04    1.95e+04\n",
            "x5         -4.895e+05   3.11e+04    -15.758      0.000    -5.5e+05   -4.29e+05\n",
            "x6          1.925e+05   3.71e+04      5.195      0.000     1.2e+05    2.65e+05\n",
            "x7         -2.061e+05   3.12e+04     -6.606      0.000   -2.67e+05   -1.45e+05\n",
            "x8         -5.116e+04   1.14e+04     -4.503      0.000   -7.34e+04   -2.89e+04\n",
            "x9          1.404e+04    1.1e+05      0.128      0.898   -2.02e+05     2.3e+05\n",
            "x10        -3.606e+05   7.96e+04     -4.529      0.000   -5.17e+05   -2.05e+05\n",
            "==============================================================================\n",
            "Omnibus:                     3427.573   Durbin-Watson:                   1.677\n",
            "Prob(Omnibus):                  0.000   Jarque-Bera (JB):           256362.912\n",
            "Skew:                           4.638   Prob(JB):                         0.00\n",
            "Kurtosis:                      44.006   Cond. No.                     1.24e+03\n",
            "==============================================================================\n",
            "\n",
            "Warnings:\n",
            "[1] Standard Errors assume that the covariance matrix of the errors is correctly specified.\n",
            "[2] The condition number is large, 1.24e+03. This might indicate that there are\n",
            "strong multicollinearity or other numerical problems.\n",
            "i: 1\n",
            "                                 OLS Regression Results                                \n",
            "=======================================================================================\n",
            "Dep. Variable:                      y   R-squared (uncentered):                   0.625\n",
            "Model:                            OLS   Adj. R-squared (uncentered):              0.624\n",
            "Method:                 Least Squares   F-statistic:                              644.2\n",
            "Date:                Wed, 27 May 2020   Prob (F-statistic):                        0.00\n",
            "Time:                        19:57:31   Log-Likelihood:                         -53139.\n",
            "No. Observations:                3481   AIC:                                  1.063e+05\n",
            "Df Residuals:                    3472   BIC:                                  1.064e+05\n",
            "Df Model:                           9                                                  \n",
            "Covariance Type:            nonrobust                                                  \n",
            "==============================================================================\n",
            "                 coef    std err          t      P>|t|      [0.025      0.975]\n",
            "------------------------------------------------------------------------------\n",
            "x1          3.504e+04   1728.201     20.274      0.000    3.16e+04    3.84e+04\n",
            "x2         -6735.0895   2642.454     -2.549      0.011   -1.19e+04   -1554.168\n",
            "x3          1000.0651   1453.289      0.688      0.491   -1849.323    3849.453\n",
            "x4          1.685e+04   1337.501     12.597      0.000    1.42e+04    1.95e+04\n",
            "x5         -4.895e+05   3.11e+04    -15.763      0.000    -5.5e+05   -4.29e+05\n",
            "x6          1.926e+05   3.71e+04      5.197      0.000     1.2e+05    2.65e+05\n",
            "x7          -2.06e+05   3.12e+04     -6.607      0.000   -2.67e+05   -1.45e+05\n",
            "x8         -5.116e+04   1.14e+04     -4.504      0.000   -7.34e+04   -2.89e+04\n",
            "x9         -3.607e+05   7.96e+04     -4.530      0.000   -5.17e+05   -2.05e+05\n",
            "==============================================================================\n",
            "Omnibus:                     3427.440   Durbin-Watson:                   1.677\n",
            "Prob(Omnibus):                  0.000   Jarque-Bera (JB):           256326.626\n",
            "Skew:                           4.637   Prob(JB):                         0.00\n",
            "Kurtosis:                      44.003   Cond. No.                         943.\n",
            "==============================================================================\n",
            "\n",
            "Warnings:\n",
            "[1] Standard Errors assume that the covariance matrix of the errors is correctly specified.\n",
            "i: 2\n",
            "                                 OLS Regression Results                                \n",
            "=======================================================================================\n",
            "Dep. Variable:                      y   R-squared (uncentered):                   0.625\n",
            "Model:                            OLS   Adj. R-squared (uncentered):              0.625\n",
            "Method:                 Least Squares   F-statistic:                              724.8\n",
            "Date:                Wed, 27 May 2020   Prob (F-statistic):                        0.00\n",
            "Time:                        19:57:31   Log-Likelihood:                         -53139.\n",
            "No. Observations:                3481   AIC:                                  1.063e+05\n",
            "Df Residuals:                    3473   BIC:                                  1.063e+05\n",
            "Df Model:                           8                                                  \n",
            "Covariance Type:            nonrobust                                                  \n",
            "==============================================================================\n",
            "                 coef    std err          t      P>|t|      [0.025      0.975]\n",
            "------------------------------------------------------------------------------\n",
            "x1          3.503e+04   1728.012     20.271      0.000    3.16e+04    3.84e+04\n",
            "x2         -6833.4166   2638.388     -2.590      0.010    -1.2e+04   -1660.468\n",
            "x3          1.767e+04    594.988     29.702      0.000    1.65e+04    1.88e+04\n",
            "x4         -4.849e+05   3.03e+04    -15.995      0.000   -5.44e+05   -4.25e+05\n",
            "x5          1.916e+05    3.7e+04      5.175      0.000    1.19e+05    2.64e+05\n",
            "x6         -2.065e+05   3.12e+04     -6.627      0.000   -2.68e+05   -1.45e+05\n",
            "x7          -5.09e+04   1.14e+04     -4.483      0.000   -7.32e+04   -2.86e+04\n",
            "x8         -3.607e+05   7.96e+04     -4.531      0.000   -5.17e+05   -2.05e+05\n",
            "==============================================================================\n",
            "Omnibus:                     3432.928   Durbin-Watson:                   1.678\n",
            "Prob(Omnibus):                  0.000   Jarque-Bera (JB):           258039.096\n",
            "Skew:                           4.648   Prob(JB):                         0.00\n",
            "Kurtosis:                      44.142   Cond. No.                         710.\n",
            "==============================================================================\n",
            "\n",
            "Warnings:\n",
            "[1] Standard Errors assume that the covariance matrix of the errors is correctly specified.\n",
            "i: 3\n",
            "                                 OLS Regression Results                                \n",
            "=======================================================================================\n",
            "Dep. Variable:                      y   R-squared (uncentered):                   0.625\n",
            "Model:                            OLS   Adj. R-squared (uncentered):              0.625\n",
            "Method:                 Least Squares   F-statistic:                              724.8\n",
            "Date:                Wed, 27 May 2020   Prob (F-statistic):                        0.00\n",
            "Time:                        19:57:31   Log-Likelihood:                         -53139.\n",
            "No. Observations:                3481   AIC:                                  1.063e+05\n",
            "Df Residuals:                    3473   BIC:                                  1.063e+05\n",
            "Df Model:                           8                                                  \n",
            "Covariance Type:            nonrobust                                                  \n",
            "==============================================================================\n",
            "                 coef    std err          t      P>|t|      [0.025      0.975]\n",
            "------------------------------------------------------------------------------\n",
            "x1          3.503e+04   1728.012     20.271      0.000    3.16e+04    3.84e+04\n",
            "x2         -6833.4166   2638.388     -2.590      0.010    -1.2e+04   -1660.468\n",
            "x3          1.767e+04    594.988     29.702      0.000    1.65e+04    1.88e+04\n",
            "x4         -4.849e+05   3.03e+04    -15.995      0.000   -5.44e+05   -4.25e+05\n",
            "x5          1.916e+05    3.7e+04      5.175      0.000    1.19e+05    2.64e+05\n",
            "x6         -2.065e+05   3.12e+04     -6.627      0.000   -2.68e+05   -1.45e+05\n",
            "x7          -5.09e+04   1.14e+04     -4.483      0.000   -7.32e+04   -2.86e+04\n",
            "x8         -3.607e+05   7.96e+04     -4.531      0.000   -5.17e+05   -2.05e+05\n",
            "==============================================================================\n",
            "Omnibus:                     3432.928   Durbin-Watson:                   1.678\n",
            "Prob(Omnibus):                  0.000   Jarque-Bera (JB):           258039.096\n",
            "Skew:                           4.648   Prob(JB):                         0.00\n",
            "Kurtosis:                      44.142   Cond. No.                         710.\n",
            "==============================================================================\n",
            "\n",
            "Warnings:\n",
            "[1] Standard Errors assume that the covariance matrix of the errors is correctly specified.\n",
            "i: 4\n",
            "                                 OLS Regression Results                                \n",
            "=======================================================================================\n",
            "Dep. Variable:                      y   R-squared (uncentered):                   0.625\n",
            "Model:                            OLS   Adj. R-squared (uncentered):              0.625\n",
            "Method:                 Least Squares   F-statistic:                              724.8\n",
            "Date:                Wed, 27 May 2020   Prob (F-statistic):                        0.00\n",
            "Time:                        19:57:31   Log-Likelihood:                         -53139.\n",
            "No. Observations:                3481   AIC:                                  1.063e+05\n",
            "Df Residuals:                    3473   BIC:                                  1.063e+05\n",
            "Df Model:                           8                                                  \n",
            "Covariance Type:            nonrobust                                                  \n",
            "==============================================================================\n",
            "                 coef    std err          t      P>|t|      [0.025      0.975]\n",
            "------------------------------------------------------------------------------\n",
            "x1          3.503e+04   1728.012     20.271      0.000    3.16e+04    3.84e+04\n",
            "x2         -6833.4166   2638.388     -2.590      0.010    -1.2e+04   -1660.468\n",
            "x3          1.767e+04    594.988     29.702      0.000    1.65e+04    1.88e+04\n",
            "x4         -4.849e+05   3.03e+04    -15.995      0.000   -5.44e+05   -4.25e+05\n",
            "x5          1.916e+05    3.7e+04      5.175      0.000    1.19e+05    2.64e+05\n",
            "x6         -2.065e+05   3.12e+04     -6.627      0.000   -2.68e+05   -1.45e+05\n",
            "x7          -5.09e+04   1.14e+04     -4.483      0.000   -7.32e+04   -2.86e+04\n",
            "x8         -3.607e+05   7.96e+04     -4.531      0.000   -5.17e+05   -2.05e+05\n",
            "==============================================================================\n",
            "Omnibus:                     3432.928   Durbin-Watson:                   1.678\n",
            "Prob(Omnibus):                  0.000   Jarque-Bera (JB):           258039.096\n",
            "Skew:                           4.648   Prob(JB):                         0.00\n",
            "Kurtosis:                      44.142   Cond. No.                         710.\n",
            "==============================================================================\n",
            "\n",
            "Warnings:\n",
            "[1] Standard Errors assume that the covariance matrix of the errors is correctly specified.\n",
            "i: 5\n",
            "                                 OLS Regression Results                                \n",
            "=======================================================================================\n",
            "Dep. Variable:                      y   R-squared (uncentered):                   0.625\n",
            "Model:                            OLS   Adj. R-squared (uncentered):              0.625\n",
            "Method:                 Least Squares   F-statistic:                              724.8\n",
            "Date:                Wed, 27 May 2020   Prob (F-statistic):                        0.00\n",
            "Time:                        19:57:31   Log-Likelihood:                         -53139.\n",
            "No. Observations:                3481   AIC:                                  1.063e+05\n",
            "Df Residuals:                    3473   BIC:                                  1.063e+05\n",
            "Df Model:                           8                                                  \n",
            "Covariance Type:            nonrobust                                                  \n",
            "==============================================================================\n",
            "                 coef    std err          t      P>|t|      [0.025      0.975]\n",
            "------------------------------------------------------------------------------\n",
            "x1          3.503e+04   1728.012     20.271      0.000    3.16e+04    3.84e+04\n",
            "x2         -6833.4166   2638.388     -2.590      0.010    -1.2e+04   -1660.468\n",
            "x3          1.767e+04    594.988     29.702      0.000    1.65e+04    1.88e+04\n",
            "x4         -4.849e+05   3.03e+04    -15.995      0.000   -5.44e+05   -4.25e+05\n",
            "x5          1.916e+05    3.7e+04      5.175      0.000    1.19e+05    2.64e+05\n",
            "x6         -2.065e+05   3.12e+04     -6.627      0.000   -2.68e+05   -1.45e+05\n",
            "x7          -5.09e+04   1.14e+04     -4.483      0.000   -7.32e+04   -2.86e+04\n",
            "x8         -3.607e+05   7.96e+04     -4.531      0.000   -5.17e+05   -2.05e+05\n",
            "==============================================================================\n",
            "Omnibus:                     3432.928   Durbin-Watson:                   1.678\n",
            "Prob(Omnibus):                  0.000   Jarque-Bera (JB):           258039.096\n",
            "Skew:                           4.648   Prob(JB):                         0.00\n",
            "Kurtosis:                      44.142   Cond. No.                         710.\n",
            "==============================================================================\n",
            "\n",
            "Warnings:\n",
            "[1] Standard Errors assume that the covariance matrix of the errors is correctly specified.\n",
            "i: 6\n",
            "                                 OLS Regression Results                                \n",
            "=======================================================================================\n",
            "Dep. Variable:                      y   R-squared (uncentered):                   0.625\n",
            "Model:                            OLS   Adj. R-squared (uncentered):              0.625\n",
            "Method:                 Least Squares   F-statistic:                              724.8\n",
            "Date:                Wed, 27 May 2020   Prob (F-statistic):                        0.00\n",
            "Time:                        19:57:31   Log-Likelihood:                         -53139.\n",
            "No. Observations:                3481   AIC:                                  1.063e+05\n",
            "Df Residuals:                    3473   BIC:                                  1.063e+05\n",
            "Df Model:                           8                                                  \n",
            "Covariance Type:            nonrobust                                                  \n",
            "==============================================================================\n",
            "                 coef    std err          t      P>|t|      [0.025      0.975]\n",
            "------------------------------------------------------------------------------\n",
            "x1          3.503e+04   1728.012     20.271      0.000    3.16e+04    3.84e+04\n",
            "x2         -6833.4166   2638.388     -2.590      0.010    -1.2e+04   -1660.468\n",
            "x3          1.767e+04    594.988     29.702      0.000    1.65e+04    1.88e+04\n",
            "x4         -4.849e+05   3.03e+04    -15.995      0.000   -5.44e+05   -4.25e+05\n",
            "x5          1.916e+05    3.7e+04      5.175      0.000    1.19e+05    2.64e+05\n",
            "x6         -2.065e+05   3.12e+04     -6.627      0.000   -2.68e+05   -1.45e+05\n",
            "x7          -5.09e+04   1.14e+04     -4.483      0.000   -7.32e+04   -2.86e+04\n",
            "x8         -3.607e+05   7.96e+04     -4.531      0.000   -5.17e+05   -2.05e+05\n",
            "==============================================================================\n",
            "Omnibus:                     3432.928   Durbin-Watson:                   1.678\n",
            "Prob(Omnibus):                  0.000   Jarque-Bera (JB):           258039.096\n",
            "Skew:                           4.648   Prob(JB):                         0.00\n",
            "Kurtosis:                      44.142   Cond. No.                         710.\n",
            "==============================================================================\n",
            "\n",
            "Warnings:\n",
            "[1] Standard Errors assume that the covariance matrix of the errors is correctly specified.\n",
            "i: 7\n",
            "                                 OLS Regression Results                                \n",
            "=======================================================================================\n",
            "Dep. Variable:                      y   R-squared (uncentered):                   0.625\n",
            "Model:                            OLS   Adj. R-squared (uncentered):              0.625\n",
            "Method:                 Least Squares   F-statistic:                              724.8\n",
            "Date:                Wed, 27 May 2020   Prob (F-statistic):                        0.00\n",
            "Time:                        19:57:31   Log-Likelihood:                         -53139.\n",
            "No. Observations:                3481   AIC:                                  1.063e+05\n",
            "Df Residuals:                    3473   BIC:                                  1.063e+05\n",
            "Df Model:                           8                                                  \n",
            "Covariance Type:            nonrobust                                                  \n",
            "==============================================================================\n",
            "                 coef    std err          t      P>|t|      [0.025      0.975]\n",
            "------------------------------------------------------------------------------\n",
            "x1          3.503e+04   1728.012     20.271      0.000    3.16e+04    3.84e+04\n",
            "x2         -6833.4166   2638.388     -2.590      0.010    -1.2e+04   -1660.468\n",
            "x3          1.767e+04    594.988     29.702      0.000    1.65e+04    1.88e+04\n",
            "x4         -4.849e+05   3.03e+04    -15.995      0.000   -5.44e+05   -4.25e+05\n",
            "x5          1.916e+05    3.7e+04      5.175      0.000    1.19e+05    2.64e+05\n",
            "x6         -2.065e+05   3.12e+04     -6.627      0.000   -2.68e+05   -1.45e+05\n",
            "x7          -5.09e+04   1.14e+04     -4.483      0.000   -7.32e+04   -2.86e+04\n",
            "x8         -3.607e+05   7.96e+04     -4.531      0.000   -5.17e+05   -2.05e+05\n",
            "==============================================================================\n",
            "Omnibus:                     3432.928   Durbin-Watson:                   1.678\n",
            "Prob(Omnibus):                  0.000   Jarque-Bera (JB):           258039.096\n",
            "Skew:                           4.648   Prob(JB):                         0.00\n",
            "Kurtosis:                      44.142   Cond. No.                         710.\n",
            "==============================================================================\n",
            "\n",
            "Warnings:\n",
            "[1] Standard Errors assume that the covariance matrix of the errors is correctly specified.\n",
            "i: 8\n",
            "                                 OLS Regression Results                                \n",
            "=======================================================================================\n",
            "Dep. Variable:                      y   R-squared (uncentered):                   0.625\n",
            "Model:                            OLS   Adj. R-squared (uncentered):              0.625\n",
            "Method:                 Least Squares   F-statistic:                              724.8\n",
            "Date:                Wed, 27 May 2020   Prob (F-statistic):                        0.00\n",
            "Time:                        19:57:31   Log-Likelihood:                         -53139.\n",
            "No. Observations:                3481   AIC:                                  1.063e+05\n",
            "Df Residuals:                    3473   BIC:                                  1.063e+05\n",
            "Df Model:                           8                                                  \n",
            "Covariance Type:            nonrobust                                                  \n",
            "==============================================================================\n",
            "                 coef    std err          t      P>|t|      [0.025      0.975]\n",
            "------------------------------------------------------------------------------\n",
            "x1          3.503e+04   1728.012     20.271      0.000    3.16e+04    3.84e+04\n",
            "x2         -6833.4166   2638.388     -2.590      0.010    -1.2e+04   -1660.468\n",
            "x3          1.767e+04    594.988     29.702      0.000    1.65e+04    1.88e+04\n",
            "x4         -4.849e+05   3.03e+04    -15.995      0.000   -5.44e+05   -4.25e+05\n",
            "x5          1.916e+05    3.7e+04      5.175      0.000    1.19e+05    2.64e+05\n",
            "x6         -2.065e+05   3.12e+04     -6.627      0.000   -2.68e+05   -1.45e+05\n",
            "x7          -5.09e+04   1.14e+04     -4.483      0.000   -7.32e+04   -2.86e+04\n",
            "x8         -3.607e+05   7.96e+04     -4.531      0.000   -5.17e+05   -2.05e+05\n",
            "==============================================================================\n",
            "Omnibus:                     3432.928   Durbin-Watson:                   1.678\n",
            "Prob(Omnibus):                  0.000   Jarque-Bera (JB):           258039.096\n",
            "Skew:                           4.648   Prob(JB):                         0.00\n",
            "Kurtosis:                      44.142   Cond. No.                         710.\n",
            "==============================================================================\n",
            "\n",
            "Warnings:\n",
            "[1] Standard Errors assume that the covariance matrix of the errors is correctly specified.\n",
            "i: 9\n",
            "                                 OLS Regression Results                                \n",
            "=======================================================================================\n",
            "Dep. Variable:                      y   R-squared (uncentered):                   0.625\n",
            "Model:                            OLS   Adj. R-squared (uncentered):              0.625\n",
            "Method:                 Least Squares   F-statistic:                              724.8\n",
            "Date:                Wed, 27 May 2020   Prob (F-statistic):                        0.00\n",
            "Time:                        19:57:31   Log-Likelihood:                         -53139.\n",
            "No. Observations:                3481   AIC:                                  1.063e+05\n",
            "Df Residuals:                    3473   BIC:                                  1.063e+05\n",
            "Df Model:                           8                                                  \n",
            "Covariance Type:            nonrobust                                                  \n",
            "==============================================================================\n",
            "                 coef    std err          t      P>|t|      [0.025      0.975]\n",
            "------------------------------------------------------------------------------\n",
            "x1          3.503e+04   1728.012     20.271      0.000    3.16e+04    3.84e+04\n",
            "x2         -6833.4166   2638.388     -2.590      0.010    -1.2e+04   -1660.468\n",
            "x3          1.767e+04    594.988     29.702      0.000    1.65e+04    1.88e+04\n",
            "x4         -4.849e+05   3.03e+04    -15.995      0.000   -5.44e+05   -4.25e+05\n",
            "x5          1.916e+05    3.7e+04      5.175      0.000    1.19e+05    2.64e+05\n",
            "x6         -2.065e+05   3.12e+04     -6.627      0.000   -2.68e+05   -1.45e+05\n",
            "x7          -5.09e+04   1.14e+04     -4.483      0.000   -7.32e+04   -2.86e+04\n",
            "x8         -3.607e+05   7.96e+04     -4.531      0.000   -5.17e+05   -2.05e+05\n",
            "==============================================================================\n",
            "Omnibus:                     3432.928   Durbin-Watson:                   1.678\n",
            "Prob(Omnibus):                  0.000   Jarque-Bera (JB):           258039.096\n",
            "Skew:                           4.648   Prob(JB):                         0.00\n",
            "Kurtosis:                      44.142   Cond. No.                         710.\n",
            "==============================================================================\n",
            "\n",
            "Warnings:\n",
            "[1] Standard Errors assume that the covariance matrix of the errors is correctly specified.\n"
          ],
          "name": "stdout"
        }
      ]
    },
    {
      "cell_type": "code",
      "metadata": {
        "id": "a31-O4LNfHNO",
        "colab_type": "code",
        "outputId": "ffa33387-3110-4056-e605-20a9a4cc286d",
        "colab": {
          "base_uri": "https://localhost:8080/",
          "height": 34
        }
      },
      "source": [
        "#Using Multiple Linear Regression with the Optimized Features\n",
        "\n",
        "x_train, x_test, y_train, y_test = train_test_split(x_opt, y, test_size = 0.2, random_state = 0)\n",
        "\n",
        "regressor = LinearRegression()\n",
        "regressor.fit(x_train, y_train)\n",
        "\n",
        "y_pred = regressor.predict(x_test)\n",
        "msqe = sum((y_pred - y_test) * (y_pred - y_test)) / y_test.shape[0]\n",
        "rmse = np.sqrt(msqe)\n",
        "print(rmse)"
      ],
      "execution_count": 0,
      "outputs": [
        {
          "output_type": "stream",
          "text": [
            "950454.4650327943\n"
          ],
          "name": "stdout"
        }
      ]
    },
    {
      "cell_type": "code",
      "metadata": {
        "id": "Xvd0zJVl_u24",
        "colab_type": "code",
        "outputId": "a777a88f-bdac-43d8-e644-458f8a9b33f5",
        "colab": {
          "base_uri": "https://localhost:8080/",
          "height": 34
        }
      },
      "source": [
        "print(r2_score(y_test,y_pred))"
      ],
      "execution_count": 0,
      "outputs": [
        {
          "output_type": "stream",
          "text": [
            "0.5523076438111696\n"
          ],
          "name": "stdout"
        }
      ]
    },
    {
      "cell_type": "code",
      "metadata": {
        "id": "XqvBwa333a6F",
        "colab_type": "code",
        "colab": {}
      },
      "source": [
        "#Random Forest Regression\n",
        "sel_cols = ['ilce','kati','brut','oda','banyo', 'tapu', 'salon','fiyat']\n",
        "df_randomForest = df[sel_cols]\n",
        "\n",
        "x = df_randomForest.iloc[:, : -1].values\n",
        "y = df_randomForest.iloc[: , 7].values\n",
        "\n",
        "\n",
        "x_train, x_test, y_train, y_test = train_test_split(x, y, test_size = 0.2, random_state = 0)\n",
        "\n",
        "#max depth versus error\n",
        "md = 30;\n",
        "md_errors = np.zeros(md)\n",
        "\n",
        "from sklearn.ensemble import RandomForestRegressor\n",
        "for i in range(1, md+1):\n",
        "    regressor = RandomForestRegressor(n_estimators = 100, max_depth = i, random_state = 0)\n",
        "    regressor.fit(x_train, y_train)\n",
        "    y_pred = regressor.predict(x_test)\n",
        "    #finding error\n",
        "    msqe = sum((y_pred - y_test) * (y_pred - y_test)) / y_test.shape[0]\n",
        "    md_errors[i-1] = np.sqrt(msqe)\n",
        "\n",
        "\n",
        "plt.scatter(range(1, md+1), md_errors, color = 'red')\n",
        "plt.plot(range(1, md+1), md_errors, color = 'blue')\n",
        "plt.xlabel('max depth')\n",
        "plt.ylabel('rmse')\n",
        "plt.show()"
      ],
      "execution_count": 0,
      "outputs": []
    },
    {
      "cell_type": "code",
      "metadata": {
        "id": "yj-1-Je_4WO9",
        "colab_type": "code",
        "colab": {}
      },
      "source": [
        "from sklearn.ensemble import RandomForestRegressor\n",
        "regressor = RandomForestRegressor(n_estimators = 100, max_depth = 20, max_features = 0.5, min_samples_split = 5, random_state = 42)\n",
        "regressor.fit(x_train, y_train)\n",
        "y_pred = regressor.predict(x_test)\n",
        "msqe = sum((y_pred - y_test) * (y_pred - y_test)) / y_test.shape[0]\n",
        "rmse = np.sqrt(msqe)\n",
        "print(rmse)"
      ],
      "execution_count": 0,
      "outputs": []
    },
    {
      "cell_type": "code",
      "metadata": {
        "id": "k9mE7F00_gKk",
        "colab_type": "code",
        "colab": {}
      },
      "source": [
        "print(r2_score(y_test,y_pred))"
      ],
      "execution_count": 0,
      "outputs": []
    },
    {
      "cell_type": "code",
      "metadata": {
        "id": "urYIRqd2xxSJ",
        "colab_type": "code",
        "colab": {}
      },
      "source": [
        "regressor"
      ],
      "execution_count": 0,
      "outputs": []
    },
    {
      "cell_type": "code",
      "metadata": {
        "id": "Ve2wrI7_xTgb",
        "colab_type": "code",
        "colab": {}
      },
      "source": [
        "from sklearn.model_selection import GridSearchCV\n",
        "random_params = {'max_depth':[13,20,22], 'max_features':[0.5,1,2,4], 'n_estimators':[500,1000,2000, 2500]}\n",
        "random_cv_model = GridSearchCV(regressor , random_params, cv=10, n_jobs=4, verbose =2).fit(x_train ,y_train)\n",
        "random_cv_model.best_params_"
      ],
      "execution_count": 0,
      "outputs": []
    },
    {
      "cell_type": "code",
      "metadata": {
        "id": "ytcMDBoIywnZ",
        "colab_type": "code",
        "colab": {}
      },
      "source": [
        "#Optimized Random Forest Regression\n",
        "final_random_model = RandomForestRegressor(max_depth =20,max_features=2,n_estimators=1000).fit(x_train, y_train)\n",
        "y_pred =final_random_model.predict(x_test)\n",
        "msqe = sum((y_pred - y_test) * (y_pred - y_test)) / y_test.shape[0]\n",
        "rmse = np.sqrt(msqe)\n",
        "print(rmse)"
      ],
      "execution_count": 0,
      "outputs": []
    },
    {
      "cell_type": "code",
      "metadata": {
        "id": "iyaQTCB8_jTc",
        "colab_type": "code",
        "colab": {}
      },
      "source": [
        "print(r2_score(y_test,y_pred))"
      ],
      "execution_count": 0,
      "outputs": []
    },
    {
      "cell_type": "code",
      "metadata": {
        "id": "e7BB9f3PJpHG",
        "colab_type": "code",
        "colab": {}
      },
      "source": [
        "#KNN Regression\n",
        "from sklearn.neighbors import KNeighborsClassifier\n",
        "knn = KNeighborsClassifier(n_neighbors = 5, metric = 'minkowski', p = 2) \n",
        "knn.fit(x_train, y_train)\n",
        "\n",
        "y_pred = knn.predict(x_test)\n",
        "\n",
        "#number of neighbors versus accuracy\n",
        "accuracy = np.zeros(14)\n",
        "j = 0\n",
        "\n",
        "for i in range(1, 29, 2):\n",
        "   knn = KNeighborsClassifier(n_neighbors = i, metric = 'minkowski', p = 2) \n",
        "   knn.fit(x_train, y_train)\n",
        "   y_pred = knn.predict(x_test)\n",
        "   #finding error\n",
        "   accuracy[j] = sum(y_pred == y_test) / y_test.shape[0]\n",
        "   j = j + 1\n",
        "\n",
        "\n",
        "plt.scatter(range(1, 29, 2), accuracy, color = 'red')\n",
        "plt.plot(range(1, 29, 2), accuracy, color = 'blue')\n",
        "plt.xlabel('k')\n",
        "plt.ylabel('accuracy')\n",
        "plt.show()"
      ],
      "execution_count": 0,
      "outputs": []
    },
    {
      "cell_type": "code",
      "metadata": {
        "id": "8yK9-fKBzKtJ",
        "colab_type": "code",
        "colab": {}
      },
      "source": [
        "knn = KNeighborsClassifier(n_neighbors = 25, metric = 'minkowski', p = 2) \n",
        "knn.fit(x_train, y_train)\n",
        "y_pred = knn.predict(x_test)\n",
        "#finding error\n",
        "accuracy = sum(y_pred == y_test) / y_test.shape[0]\n",
        "print(accuracy)"
      ],
      "execution_count": 0,
      "outputs": []
    },
    {
      "cell_type": "code",
      "metadata": {
        "id": "MUMBUf_fzYH0",
        "colab_type": "code",
        "colab": {}
      },
      "source": [
        "print(r2_score(y_test,y_pred))"
      ],
      "execution_count": 0,
      "outputs": []
    }
  ]
}